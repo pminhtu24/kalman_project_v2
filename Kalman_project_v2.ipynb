{
  "nbformat": 4,
  "nbformat_minor": 0,
  "metadata": {
    "colab": {
      "provenance": [],
      "gpuType": "T4"
    },
    "kernelspec": {
      "name": "python3",
      "display_name": "Python 3"
    },
    "language_info": {
      "name": "python"
    },
    "accelerator": "GPU"
  },
  "cells": [
    {
      "cell_type": "code",
      "execution_count": 1,
      "metadata": {
        "colab": {
          "base_uri": "https://localhost:8080/"
        },
        "id": "d6McALN0713a",
        "outputId": "daeece52-9073-451f-804a-51401400b38e"
      },
      "outputs": [
        {
          "output_type": "stream",
          "name": "stdout",
          "text": [
            "Mounted at /content/drive\n"
          ]
        }
      ],
      "source": [
        "from google.colab import drive\n",
        "drive.mount('/content/drive')"
      ]
    },
    {
      "cell_type": "code",
      "source": [
        "%cd /content/drive/MyDrive/Kalman datasets"
      ],
      "metadata": {
        "colab": {
          "base_uri": "https://localhost:8080/"
        },
        "id": "6ajbj4Zb8JVt",
        "outputId": "0ce282cf-11b9-4639-e49b-0e1423cc40c8"
      },
      "execution_count": 2,
      "outputs": [
        {
          "output_type": "stream",
          "name": "stdout",
          "text": [
            "/content/drive/MyDrive/Kalman datasets\n"
          ]
        }
      ]
    },
    {
      "cell_type": "code",
      "source": [
        "# ===== Imports & Setup =====\n",
        "import pandas as pd\n",
        "import numpy as np\n",
        "import matplotlib.pyplot as plt\n",
        "from statsmodels.tsa.statespace.structural import UnobservedComponents\n",
        "from sklearn.metrics import mean_squared_error\n",
        "\n",
        "# Chỉ load 3 cột cần thiết để tiết kiệm bộ nhớ\n",
        "train = pd.read_csv('/content/drive/MyDrive/Kalman datasets/train.csv')\n",
        "test  = pd.read_csv('/content/drive/MyDrive/Kalman datasets/test.csv')"
      ],
      "metadata": {
        "id": "D3EG0hlKCq9C"
      },
      "execution_count": 3,
      "outputs": []
    },
    {
      "cell_type": "code",
      "source": [
        "train.head()"
      ],
      "metadata": {
        "colab": {
          "base_uri": "https://localhost:8080/",
          "height": 226
        },
        "id": "09p8FrhvGmQr",
        "outputId": "f0ddeb97-184e-43c4-a308-59fd521d72ad"
      },
      "execution_count": 4,
      "outputs": [
        {
          "output_type": "execute_result",
          "data": {
            "text/plain": [
              "   id     Podcast_Name Episode_Title  Episode_Length_minutes       Genre  \\\n",
              "0   0  Mystery Matters    Episode 98                     NaN  True Crime   \n",
              "1   1    Joke Junction    Episode 26                  119.80      Comedy   \n",
              "2   2   Study Sessions    Episode 16                   73.90   Education   \n",
              "3   3   Digital Digest    Episode 45                   67.17  Technology   \n",
              "4   4      Mind & Body    Episode 86                  110.51      Health   \n",
              "\n",
              "   Host_Popularity_percentage Publication_Day Publication_Time  \\\n",
              "0                       74.81        Thursday            Night   \n",
              "1                       66.95        Saturday        Afternoon   \n",
              "2                       69.97         Tuesday          Evening   \n",
              "3                       57.22          Monday          Morning   \n",
              "4                       80.07          Monday        Afternoon   \n",
              "\n",
              "   Guest_Popularity_percentage  Number_of_Ads Episode_Sentiment  \\\n",
              "0                          NaN            0.0          Positive   \n",
              "1                        75.95            2.0          Negative   \n",
              "2                         8.97            0.0          Negative   \n",
              "3                        78.70            2.0          Positive   \n",
              "4                        58.68            3.0           Neutral   \n",
              "\n",
              "   Listening_Time_minutes  \n",
              "0                31.41998  \n",
              "1                88.01241  \n",
              "2                44.92531  \n",
              "3                46.27824  \n",
              "4                75.61031  "
            ],
            "text/html": [
              "\n",
              "  <div id=\"df-b62af92e-767e-4b84-8109-b55ca344052f\" class=\"colab-df-container\">\n",
              "    <div>\n",
              "<style scoped>\n",
              "    .dataframe tbody tr th:only-of-type {\n",
              "        vertical-align: middle;\n",
              "    }\n",
              "\n",
              "    .dataframe tbody tr th {\n",
              "        vertical-align: top;\n",
              "    }\n",
              "\n",
              "    .dataframe thead th {\n",
              "        text-align: right;\n",
              "    }\n",
              "</style>\n",
              "<table border=\"1\" class=\"dataframe\">\n",
              "  <thead>\n",
              "    <tr style=\"text-align: right;\">\n",
              "      <th></th>\n",
              "      <th>id</th>\n",
              "      <th>Podcast_Name</th>\n",
              "      <th>Episode_Title</th>\n",
              "      <th>Episode_Length_minutes</th>\n",
              "      <th>Genre</th>\n",
              "      <th>Host_Popularity_percentage</th>\n",
              "      <th>Publication_Day</th>\n",
              "      <th>Publication_Time</th>\n",
              "      <th>Guest_Popularity_percentage</th>\n",
              "      <th>Number_of_Ads</th>\n",
              "      <th>Episode_Sentiment</th>\n",
              "      <th>Listening_Time_minutes</th>\n",
              "    </tr>\n",
              "  </thead>\n",
              "  <tbody>\n",
              "    <tr>\n",
              "      <th>0</th>\n",
              "      <td>0</td>\n",
              "      <td>Mystery Matters</td>\n",
              "      <td>Episode 98</td>\n",
              "      <td>NaN</td>\n",
              "      <td>True Crime</td>\n",
              "      <td>74.81</td>\n",
              "      <td>Thursday</td>\n",
              "      <td>Night</td>\n",
              "      <td>NaN</td>\n",
              "      <td>0.0</td>\n",
              "      <td>Positive</td>\n",
              "      <td>31.41998</td>\n",
              "    </tr>\n",
              "    <tr>\n",
              "      <th>1</th>\n",
              "      <td>1</td>\n",
              "      <td>Joke Junction</td>\n",
              "      <td>Episode 26</td>\n",
              "      <td>119.80</td>\n",
              "      <td>Comedy</td>\n",
              "      <td>66.95</td>\n",
              "      <td>Saturday</td>\n",
              "      <td>Afternoon</td>\n",
              "      <td>75.95</td>\n",
              "      <td>2.0</td>\n",
              "      <td>Negative</td>\n",
              "      <td>88.01241</td>\n",
              "    </tr>\n",
              "    <tr>\n",
              "      <th>2</th>\n",
              "      <td>2</td>\n",
              "      <td>Study Sessions</td>\n",
              "      <td>Episode 16</td>\n",
              "      <td>73.90</td>\n",
              "      <td>Education</td>\n",
              "      <td>69.97</td>\n",
              "      <td>Tuesday</td>\n",
              "      <td>Evening</td>\n",
              "      <td>8.97</td>\n",
              "      <td>0.0</td>\n",
              "      <td>Negative</td>\n",
              "      <td>44.92531</td>\n",
              "    </tr>\n",
              "    <tr>\n",
              "      <th>3</th>\n",
              "      <td>3</td>\n",
              "      <td>Digital Digest</td>\n",
              "      <td>Episode 45</td>\n",
              "      <td>67.17</td>\n",
              "      <td>Technology</td>\n",
              "      <td>57.22</td>\n",
              "      <td>Monday</td>\n",
              "      <td>Morning</td>\n",
              "      <td>78.70</td>\n",
              "      <td>2.0</td>\n",
              "      <td>Positive</td>\n",
              "      <td>46.27824</td>\n",
              "    </tr>\n",
              "    <tr>\n",
              "      <th>4</th>\n",
              "      <td>4</td>\n",
              "      <td>Mind &amp; Body</td>\n",
              "      <td>Episode 86</td>\n",
              "      <td>110.51</td>\n",
              "      <td>Health</td>\n",
              "      <td>80.07</td>\n",
              "      <td>Monday</td>\n",
              "      <td>Afternoon</td>\n",
              "      <td>58.68</td>\n",
              "      <td>3.0</td>\n",
              "      <td>Neutral</td>\n",
              "      <td>75.61031</td>\n",
              "    </tr>\n",
              "  </tbody>\n",
              "</table>\n",
              "</div>\n",
              "    <div class=\"colab-df-buttons\">\n",
              "\n",
              "  <div class=\"colab-df-container\">\n",
              "    <button class=\"colab-df-convert\" onclick=\"convertToInteractive('df-b62af92e-767e-4b84-8109-b55ca344052f')\"\n",
              "            title=\"Convert this dataframe to an interactive table.\"\n",
              "            style=\"display:none;\">\n",
              "\n",
              "  <svg xmlns=\"http://www.w3.org/2000/svg\" height=\"24px\" viewBox=\"0 -960 960 960\">\n",
              "    <path d=\"M120-120v-720h720v720H120Zm60-500h600v-160H180v160Zm220 220h160v-160H400v160Zm0 220h160v-160H400v160ZM180-400h160v-160H180v160Zm440 0h160v-160H620v160ZM180-180h160v-160H180v160Zm440 0h160v-160H620v160Z\"/>\n",
              "  </svg>\n",
              "    </button>\n",
              "\n",
              "  <style>\n",
              "    .colab-df-container {\n",
              "      display:flex;\n",
              "      gap: 12px;\n",
              "    }\n",
              "\n",
              "    .colab-df-convert {\n",
              "      background-color: #E8F0FE;\n",
              "      border: none;\n",
              "      border-radius: 50%;\n",
              "      cursor: pointer;\n",
              "      display: none;\n",
              "      fill: #1967D2;\n",
              "      height: 32px;\n",
              "      padding: 0 0 0 0;\n",
              "      width: 32px;\n",
              "    }\n",
              "\n",
              "    .colab-df-convert:hover {\n",
              "      background-color: #E2EBFA;\n",
              "      box-shadow: 0px 1px 2px rgba(60, 64, 67, 0.3), 0px 1px 3px 1px rgba(60, 64, 67, 0.15);\n",
              "      fill: #174EA6;\n",
              "    }\n",
              "\n",
              "    .colab-df-buttons div {\n",
              "      margin-bottom: 4px;\n",
              "    }\n",
              "\n",
              "    [theme=dark] .colab-df-convert {\n",
              "      background-color: #3B4455;\n",
              "      fill: #D2E3FC;\n",
              "    }\n",
              "\n",
              "    [theme=dark] .colab-df-convert:hover {\n",
              "      background-color: #434B5C;\n",
              "      box-shadow: 0px 1px 3px 1px rgba(0, 0, 0, 0.15);\n",
              "      filter: drop-shadow(0px 1px 2px rgba(0, 0, 0, 0.3));\n",
              "      fill: #FFFFFF;\n",
              "    }\n",
              "  </style>\n",
              "\n",
              "    <script>\n",
              "      const buttonEl =\n",
              "        document.querySelector('#df-b62af92e-767e-4b84-8109-b55ca344052f button.colab-df-convert');\n",
              "      buttonEl.style.display =\n",
              "        google.colab.kernel.accessAllowed ? 'block' : 'none';\n",
              "\n",
              "      async function convertToInteractive(key) {\n",
              "        const element = document.querySelector('#df-b62af92e-767e-4b84-8109-b55ca344052f');\n",
              "        const dataTable =\n",
              "          await google.colab.kernel.invokeFunction('convertToInteractive',\n",
              "                                                    [key], {});\n",
              "        if (!dataTable) return;\n",
              "\n",
              "        const docLinkHtml = 'Like what you see? Visit the ' +\n",
              "          '<a target=\"_blank\" href=https://colab.research.google.com/notebooks/data_table.ipynb>data table notebook</a>'\n",
              "          + ' to learn more about interactive tables.';\n",
              "        element.innerHTML = '';\n",
              "        dataTable['output_type'] = 'display_data';\n",
              "        await google.colab.output.renderOutput(dataTable, element);\n",
              "        const docLink = document.createElement('div');\n",
              "        docLink.innerHTML = docLinkHtml;\n",
              "        element.appendChild(docLink);\n",
              "      }\n",
              "    </script>\n",
              "  </div>\n",
              "\n",
              "\n",
              "    <div id=\"df-9111c50f-c409-473e-8177-6e10d7f1e2c7\">\n",
              "      <button class=\"colab-df-quickchart\" onclick=\"quickchart('df-9111c50f-c409-473e-8177-6e10d7f1e2c7')\"\n",
              "                title=\"Suggest charts\"\n",
              "                style=\"display:none;\">\n",
              "\n",
              "<svg xmlns=\"http://www.w3.org/2000/svg\" height=\"24px\"viewBox=\"0 0 24 24\"\n",
              "     width=\"24px\">\n",
              "    <g>\n",
              "        <path d=\"M19 3H5c-1.1 0-2 .9-2 2v14c0 1.1.9 2 2 2h14c1.1 0 2-.9 2-2V5c0-1.1-.9-2-2-2zM9 17H7v-7h2v7zm4 0h-2V7h2v10zm4 0h-2v-4h2v4z\"/>\n",
              "    </g>\n",
              "</svg>\n",
              "      </button>\n",
              "\n",
              "<style>\n",
              "  .colab-df-quickchart {\n",
              "      --bg-color: #E8F0FE;\n",
              "      --fill-color: #1967D2;\n",
              "      --hover-bg-color: #E2EBFA;\n",
              "      --hover-fill-color: #174EA6;\n",
              "      --disabled-fill-color: #AAA;\n",
              "      --disabled-bg-color: #DDD;\n",
              "  }\n",
              "\n",
              "  [theme=dark] .colab-df-quickchart {\n",
              "      --bg-color: #3B4455;\n",
              "      --fill-color: #D2E3FC;\n",
              "      --hover-bg-color: #434B5C;\n",
              "      --hover-fill-color: #FFFFFF;\n",
              "      --disabled-bg-color: #3B4455;\n",
              "      --disabled-fill-color: #666;\n",
              "  }\n",
              "\n",
              "  .colab-df-quickchart {\n",
              "    background-color: var(--bg-color);\n",
              "    border: none;\n",
              "    border-radius: 50%;\n",
              "    cursor: pointer;\n",
              "    display: none;\n",
              "    fill: var(--fill-color);\n",
              "    height: 32px;\n",
              "    padding: 0;\n",
              "    width: 32px;\n",
              "  }\n",
              "\n",
              "  .colab-df-quickchart:hover {\n",
              "    background-color: var(--hover-bg-color);\n",
              "    box-shadow: 0 1px 2px rgba(60, 64, 67, 0.3), 0 1px 3px 1px rgba(60, 64, 67, 0.15);\n",
              "    fill: var(--button-hover-fill-color);\n",
              "  }\n",
              "\n",
              "  .colab-df-quickchart-complete:disabled,\n",
              "  .colab-df-quickchart-complete:disabled:hover {\n",
              "    background-color: var(--disabled-bg-color);\n",
              "    fill: var(--disabled-fill-color);\n",
              "    box-shadow: none;\n",
              "  }\n",
              "\n",
              "  .colab-df-spinner {\n",
              "    border: 2px solid var(--fill-color);\n",
              "    border-color: transparent;\n",
              "    border-bottom-color: var(--fill-color);\n",
              "    animation:\n",
              "      spin 1s steps(1) infinite;\n",
              "  }\n",
              "\n",
              "  @keyframes spin {\n",
              "    0% {\n",
              "      border-color: transparent;\n",
              "      border-bottom-color: var(--fill-color);\n",
              "      border-left-color: var(--fill-color);\n",
              "    }\n",
              "    20% {\n",
              "      border-color: transparent;\n",
              "      border-left-color: var(--fill-color);\n",
              "      border-top-color: var(--fill-color);\n",
              "    }\n",
              "    30% {\n",
              "      border-color: transparent;\n",
              "      border-left-color: var(--fill-color);\n",
              "      border-top-color: var(--fill-color);\n",
              "      border-right-color: var(--fill-color);\n",
              "    }\n",
              "    40% {\n",
              "      border-color: transparent;\n",
              "      border-right-color: var(--fill-color);\n",
              "      border-top-color: var(--fill-color);\n",
              "    }\n",
              "    60% {\n",
              "      border-color: transparent;\n",
              "      border-right-color: var(--fill-color);\n",
              "    }\n",
              "    80% {\n",
              "      border-color: transparent;\n",
              "      border-right-color: var(--fill-color);\n",
              "      border-bottom-color: var(--fill-color);\n",
              "    }\n",
              "    90% {\n",
              "      border-color: transparent;\n",
              "      border-bottom-color: var(--fill-color);\n",
              "    }\n",
              "  }\n",
              "</style>\n",
              "\n",
              "      <script>\n",
              "        async function quickchart(key) {\n",
              "          const quickchartButtonEl =\n",
              "            document.querySelector('#' + key + ' button');\n",
              "          quickchartButtonEl.disabled = true;  // To prevent multiple clicks.\n",
              "          quickchartButtonEl.classList.add('colab-df-spinner');\n",
              "          try {\n",
              "            const charts = await google.colab.kernel.invokeFunction(\n",
              "                'suggestCharts', [key], {});\n",
              "          } catch (error) {\n",
              "            console.error('Error during call to suggestCharts:', error);\n",
              "          }\n",
              "          quickchartButtonEl.classList.remove('colab-df-spinner');\n",
              "          quickchartButtonEl.classList.add('colab-df-quickchart-complete');\n",
              "        }\n",
              "        (() => {\n",
              "          let quickchartButtonEl =\n",
              "            document.querySelector('#df-9111c50f-c409-473e-8177-6e10d7f1e2c7 button');\n",
              "          quickchartButtonEl.style.display =\n",
              "            google.colab.kernel.accessAllowed ? 'block' : 'none';\n",
              "        })();\n",
              "      </script>\n",
              "    </div>\n",
              "\n",
              "    </div>\n",
              "  </div>\n"
            ],
            "application/vnd.google.colaboratory.intrinsic+json": {
              "type": "dataframe",
              "variable_name": "train"
            }
          },
          "metadata": {},
          "execution_count": 4
        }
      ]
    },
    {
      "cell_type": "code",
      "source": [
        "import pandas as pd\n",
        "import numpy as np\n",
        "import matplotlib.pyplot as plt\n",
        "from statsmodels.tsa.statespace.structural import UnobservedComponents\n",
        "\n",
        "df = pd.read_csv('/content/drive/MyDrive/Kalman datasets/train.csv')\n",
        "print(\"All columns:\", df.columns.tolist())\n",
        "\n",
        "# Publication_Day == 'Wednesday'\n",
        "df_wed = df[df['Publication_Day'] == 'Wednesday'].reset_index(drop=True)\n",
        "print(f\"Rows with Wednesday: {len(df_wed)}\\n\")"
      ],
      "metadata": {
        "colab": {
          "base_uri": "https://localhost:8080/"
        },
        "id": "aFh6dDDDIMyO",
        "outputId": "983127b4-5585-4a8f-c2ff-f2167e322c8e"
      },
      "execution_count": 5,
      "outputs": [
        {
          "output_type": "stream",
          "name": "stdout",
          "text": [
            "All columns: ['id', 'Podcast_Name', 'Episode_Title', 'Episode_Length_minutes', 'Genre', 'Host_Popularity_percentage', 'Publication_Day', 'Publication_Time', 'Guest_Popularity_percentage', 'Number_of_Ads', 'Episode_Sentiment', 'Listening_Time_minutes']\n",
            "Rows with Wednesday: 107886\n",
            "\n"
          ]
        }
      ]
    },
    {
      "cell_type": "code",
      "source": [
        "# Split train set into 80% train and 20% validation\n",
        "cut = int(len(df_wed) * 0.8)\n",
        "train_set = df_wed.iloc[:cut].reset_index(drop=True)\n",
        "val_set = df_wed.iloc[cut:].reset_index(drop=True)"
      ],
      "metadata": {
        "id": "lWarsNiRKcKi"
      },
      "execution_count": 11,
      "outputs": []
    },
    {
      "cell_type": "code",
      "source": [
        "y = df_wed['Listening_Time_minutes']\n",
        "\n",
        "X = df_wed.drop(columns=['id', 'Listening_Time_minutes'])\n",
        "\n",
        "print(\"shape:\", X.shape)"
      ],
      "metadata": {
        "colab": {
          "base_uri": "https://localhost:8080/"
        },
        "id": "4-yz1dgHIQIX",
        "outputId": "7d176814-45ef-4323-9ef0-0544f00cee3c"
      },
      "execution_count": 19,
      "outputs": [
        {
          "output_type": "stream",
          "name": "stdout",
          "text": [
            "shape: (107886, 10)\n"
          ]
        }
      ]
    },
    {
      "cell_type": "code",
      "source": [
        "models = {\n",
        "    'Model1_LL': UnobservedComponents(endog=y, level=True, trend=False, seasonal=None),\n",
        "    'Model2_LLT': UnobservedComponents(endog=y, level=True, trend=True,  seasonal=None),\n",
        "    'Model3_LLTS7': UnobservedComponents(endog=y, level=True, trend=True,  seasonal=7),\n",
        "}\n",
        "\n",
        "results = {}\n",
        "for name, mod in models.items():\n",
        "    print(f\"Fitting {name} ...\")\n",
        "    res = mod.fit(disp=False)\n",
        "    results[name] = res\n",
        "    print(f\"  AIC: {res.aic:.1f}, BIC: {res.bic:.1f}\\n\")"
      ],
      "metadata": {
        "colab": {
          "base_uri": "https://localhost:8080/"
        },
        "id": "e0sqBvNHIVfO",
        "outputId": "41d54bbe-8177-4aeb-d53d-d71ca34bf9e5"
      },
      "execution_count": 18,
      "outputs": [
        {
          "output_type": "stream",
          "name": "stderr",
          "text": [
            "/usr/local/lib/python3.11/dist-packages/statsmodels/tsa/statespace/structural.py:508: SpecificationWarning: Specified model does not contain a stochastic element; irregular component added.\n",
            "  warn(\"Specified model does not contain a stochastic element;\"\n",
            "/usr/local/lib/python3.11/dist-packages/statsmodels/tsa/statespace/structural.py:508: SpecificationWarning: Specified model does not contain a stochastic element; irregular component added.\n",
            "  warn(\"Specified model does not contain a stochastic element;\"\n"
          ]
        },
        {
          "output_type": "stream",
          "name": "stdout",
          "text": [
            "Fitting Model1_LL ...\n",
            "  AIC: 1017686.9, BIC: 1017696.5\n",
            "\n",
            "Fitting Model2_LLT ...\n",
            "  AIC: 1017710.8, BIC: 1017720.3\n",
            "\n",
            "Fitting Model3_LLTS7 ...\n",
            "  AIC: 1229263.6, BIC: 1229273.2\n",
            "\n"
          ]
        }
      ]
    },
    {
      "cell_type": "code",
      "source": [
        "# ===== Plot Smoothed Level for Best Model =====\n",
        "# Determine best by AIC\n",
        "best_name = min(results, key=lambda n: results[n].aic)\n",
        "best_res = results[best_name]\n",
        "print(f\"Best model based on AIC: {best_name}\\n\")\n",
        "\n",
        "plt.figure(figsize=(10, 4))\n",
        "plt.plot(y.index, y, label='Observed')\n",
        "plt.plot(y.index, best_res.smoothed_state[0], label='Smoothed Level')\n",
        "plt.title(f'Best Model Fit: {best_name}')\n",
        "plt.legend()\n",
        "plt.show()"
      ],
      "metadata": {
        "colab": {
          "base_uri": "https://localhost:8080/",
          "height": 426
        },
        "id": "lD3l6mKpIci2",
        "outputId": "ed06f1b8-1e72-4ccc-bf1b-721ddb58684c"
      },
      "execution_count": 16,
      "outputs": [
        {
          "output_type": "stream",
          "name": "stdout",
          "text": [
            "Best model based on AIC: Model1_LL\n",
            "\n"
          ]
        },
        {
          "output_type": "display_data",
          "data": {
            "text/plain": [
              "<Figure size 1000x400 with 1 Axes>"
            ],
            "image/png": "[encoded data removed]"
          },
          "metadata": {}
        }
      ]
    },
    {
      "cell_type": "code",
      "source": [
        "# ===== RMSE for all models and choose the best one =====\n",
        "from sklearn.metrics import mean_squared_error\n",
        "\n",
        "# Lọc validation chỉ cho ngày 'Wednesday'\n",
        "val_wed = val_set[val_set['Publication_Day'] == 'Wednesday'].reset_index(drop=True)\n",
        "y_val = val_wed['Listening_Time_minutes']\n",
        "\n",
        "rmses = {}\n",
        "\n",
        "for name, res in results.items():\n",
        "    pred = res.get_forecast(steps=len(y_val)).predicted_mean\n",
        "    rmse = np.sqrt(mean_squared_error(y_val, pred))\n",
        "    rmses[name] = rmse\n",
        "\n",
        "df_rmse = pd.DataFrame({\n",
        "    'Model': list(rmses.keys()),\n",
        "    'RMSE': list(rmses.values())\n",
        "})\n",
        "print(df_rmse.to_string(index=False))\n",
        "\n",
        "best_model = min(rmses, key=rmses.get)\n",
        "print(f\"\\nBest model based on RMSE: {best_model}\")"
      ],
      "metadata": {
        "colab": {
          "base_uri": "https://localhost:8080/"
        },
        "id": "Wm6MkytbKTBi",
        "outputId": "92d61427-07c8-4984-be53-ff31f5ff388c"
      },
      "execution_count": 17,
      "outputs": [
        {
          "output_type": "stream",
          "name": "stdout",
          "text": [
            "       Model      RMSE\n",
            "   Model1_LL 27.073345\n",
            "  Model2_LLT 27.073315\n",
            "Model3_LLTS7 35.745746\n",
            "\n",
            "Best model based on RMSE: Model2_LLT\n"
          ]
        }
      ]
    },
    {
      "cell_type": "code",
      "source": [
        "import pandas as pd\n",
        "test_wed = test[test['Publication_Day'] == 'Wednesday'].reset_index(drop=True)\n",
        "X_test = test_wed.drop(columns=['id', 'Publication_Day'])\n",
        "\n",
        "#Best model based on RMSE\n",
        "best_res = results[best_model]\n",
        "test_pred = best_res.get_forecast(steps=len(test_wed), exog=X_test).predicted_mean\n",
        "\n",
        "test_wed['Listening_Time_minutes'] = test_pred.values\n",
        "\n",
        "prediction_output = test_wed[['id', 'Listening_Time_minutes']]\n",
        "prediction_output.to_csv('prediction.csv', index=False)\n",
        "\n",
        "print(\"Đã lưu kết quả dự báo vào file 'prediction.csv'.\")\n"
      ],
      "metadata": {
        "colab": {
          "base_uri": "https://localhost:8080/"
        },
        "id": "8xS_CiQ1MP3e",
        "outputId": "7fc415fa-ba07-421c-ccda-905f99816024"
      },
      "execution_count": 20,
      "outputs": [
        {
          "output_type": "stream",
          "name": "stdout",
          "text": [
            "Đã lưu kết quả dự báo vào file 'prediction.csv'.\n"
          ]
        }
      ]
    }
  ]
}